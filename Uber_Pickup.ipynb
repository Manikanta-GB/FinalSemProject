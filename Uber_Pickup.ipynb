{
  "nbformat": 4,
  "nbformat_minor": 0,
  "metadata": {
    "colab": {
      "name": "Uber Pickup.ipynb",
      "provenance": [],
      "collapsed_sections": [],
      "mount_file_id": "1VMLlMfC1lzD2-WZjPwvTuSnJCuaYGo_i",
      "authorship_tag": "ABX9TyMCo4VR2OR3lql+ePWB2zos",
      "include_colab_link": true
    },
    "kernelspec": {
      "display_name": "Python 3",
      "name": "python3"
    },
    "language_info": {
      "name": "python"
    }
  },
  "cells": [
    {
      "cell_type": "markdown",
      "metadata": {
        "id": "view-in-github",
        "colab_type": "text"
      },
      "source": [
        "<a href=\"https://colab.research.google.com/github/Manikanta-GB/FinalSemProject/blob/main/Uber_Pickup.ipynb\" target=\"_parent\"><img src=\"https://colab.research.google.com/assets/colab-badge.svg\" alt=\"Open In Colab\"/></a>"
      ]
    },
    {
      "cell_type": "code",
      "metadata": {
        "id": "jSlsm9YFHfe4"
      },
      "source": [
        "import pandas as pd\n",
        "import numpy as np\n",
        "import matplotlib.pyplot as plt\n",
        "import datetime\n",
        "\n",
        "from statsmodels.tsa.arima_model import ARIMA\n",
        "from statsmodels.tsa.statespace.sarimax import SARIMAX\n",
        "from statsmodels.tsa.api import ExponentialSmoothing, SimpleExpSmoothing, Holt\n",
        "from statsmodels.tsa.seasonal import seasonal_decompose\n",
        "import statsmodels.api as sm\n",
        "from statsmodels.graphics.tsaplots import plot_acf\n",
        "from statsmodels.graphics.tsaplots import plot_pacf\n",
        "from statsmodels.tsa.stattools import adfuller\n",
        "from matplotlib.pylab import rcParams\n",
        "from sklearn.metrics import mean_squared_error\n",
        "from sklearn.preprocessing import MinMaxScaler\n",
        "\n",
        "\n",
        "from keras.models import Sequential\n",
        "from keras.layers import Dense\n",
        "import keras.backend as K\n",
        "from keras.callbacks import EarlyStopping\n",
        "from tensorflow.keras.optimizers import Adam\n",
        "from keras.models import load_model"
      ],
      "execution_count": 39,
      "outputs": []
    },
    {
      "cell_type": "code",
      "metadata": {
        "id": "gv9lj8zCIuDW"
      },
      "source": [
        "import os\n",
        "for root, dirs, files in os.walk(\"/content/drive/MyDrive/UberPickUpDemandProject/archive\"):\n",
        "   data_sets = []\n",
        "   for ind,name in enumerate(files):\n",
        "        data_sets.append(pd.read_csv(os.path.join(root, name),encoding='cp1252'))\n",
        "      "
      ],
      "execution_count": 40,
      "outputs": []
    },
    {
      "cell_type": "code",
      "metadata": {
        "colab": {
          "base_uri": "https://localhost:8080/",
          "height": 424
        },
        "id": "HPXJuw5cJ3VI",
        "outputId": "b75d3d24-340b-40cf-8016-150b9816b992"
      },
      "source": [
        "data_sets[8]"
      ],
      "execution_count": 41,
      "outputs": [
        {
          "output_type": "execute_result",
          "data": {
            "text/html": [
              "<div>\n",
              "<style scoped>\n",
              "    .dataframe tbody tr th:only-of-type {\n",
              "        vertical-align: middle;\n",
              "    }\n",
              "\n",
              "    .dataframe tbody tr th {\n",
              "        vertical-align: top;\n",
              "    }\n",
              "\n",
              "    .dataframe thead th {\n",
              "        text-align: right;\n",
              "    }\n",
              "</style>\n",
              "<table border=\"1\" class=\"dataframe\">\n",
              "  <thead>\n",
              "    <tr style=\"text-align: right;\">\n",
              "      <th></th>\n",
              "      <th>time_of_trip</th>\n",
              "      <th>start_lat</th>\n",
              "      <th>start_lng</th>\n",
              "      <th>Unnamed: 3</th>\n",
              "    </tr>\n",
              "  </thead>\n",
              "  <tbody>\n",
              "    <tr>\n",
              "      <th>0</th>\n",
              "      <td>9/4/2014 9:51</td>\n",
              "      <td>40.64705</td>\n",
              "      <td>-73.77988</td>\n",
              "      <td>NaN</td>\n",
              "    </tr>\n",
              "    <tr>\n",
              "      <th>1</th>\n",
              "      <td>8/27/2014 21:13</td>\n",
              "      <td>40.74916</td>\n",
              "      <td>-73.98373</td>\n",
              "      <td>NaN</td>\n",
              "    </tr>\n",
              "    <tr>\n",
              "      <th>2</th>\n",
              "      <td>9/4/2014 14:16</td>\n",
              "      <td>40.64065</td>\n",
              "      <td>-73.97594</td>\n",
              "      <td>NaN</td>\n",
              "    </tr>\n",
              "    <tr>\n",
              "      <th>3</th>\n",
              "      <td>9/4/2014 16:08</td>\n",
              "      <td>40.75002</td>\n",
              "      <td>-73.99514</td>\n",
              "      <td>NaN</td>\n",
              "    </tr>\n",
              "    <tr>\n",
              "      <th>4</th>\n",
              "      <td>8/28/2014 2:41</td>\n",
              "      <td>40.76715</td>\n",
              "      <td>-73.98636</td>\n",
              "      <td>NaN</td>\n",
              "    </tr>\n",
              "    <tr>\n",
              "      <th>...</th>\n",
              "      <td>...</td>\n",
              "      <td>...</td>\n",
              "      <td>...</td>\n",
              "      <td>...</td>\n",
              "    </tr>\n",
              "    <tr>\n",
              "      <th>267696</th>\n",
              "      <td>9/7/2014 3:19</td>\n",
              "      <td>40.71931</td>\n",
              "      <td>-73.99138</td>\n",
              "      <td>NaN</td>\n",
              "    </tr>\n",
              "    <tr>\n",
              "      <th>267697</th>\n",
              "      <td>9/7/2014 2:59</td>\n",
              "      <td>40.73868</td>\n",
              "      <td>-73.98862</td>\n",
              "      <td>NaN</td>\n",
              "    </tr>\n",
              "    <tr>\n",
              "      <th>267698</th>\n",
              "      <td>9/7/2014 1:55</td>\n",
              "      <td>40.71554</td>\n",
              "      <td>-73.94877</td>\n",
              "      <td>NaN</td>\n",
              "    </tr>\n",
              "    <tr>\n",
              "      <th>267699</th>\n",
              "      <td>9/5/2014 23:26</td>\n",
              "      <td>40.74667</td>\n",
              "      <td>-73.97445</td>\n",
              "      <td>NaN</td>\n",
              "    </tr>\n",
              "    <tr>\n",
              "      <th>267700</th>\n",
              "      <td>9/6/2014 22:19</td>\n",
              "      <td>40.74393</td>\n",
              "      <td>-73.78011</td>\n",
              "      <td>NaN</td>\n",
              "    </tr>\n",
              "  </tbody>\n",
              "</table>\n",
              "<p>267701 rows × 4 columns</p>\n",
              "</div>"
            ],
            "text/plain": [
              "           time_of_trip  start_lat  start_lng Unnamed: 3\n",
              "0         9/4/2014 9:51   40.64705  -73.77988        NaN\n",
              "1       8/27/2014 21:13   40.74916  -73.98373        NaN\n",
              "2        9/4/2014 14:16   40.64065  -73.97594        NaN\n",
              "3        9/4/2014 16:08   40.75002  -73.99514        NaN\n",
              "4        8/28/2014 2:41   40.76715  -73.98636        NaN\n",
              "...                 ...        ...        ...        ...\n",
              "267696    9/7/2014 3:19   40.71931  -73.99138        NaN\n",
              "267697    9/7/2014 2:59   40.73868  -73.98862        NaN\n",
              "267698    9/7/2014 1:55   40.71554  -73.94877        NaN\n",
              "267699   9/5/2014 23:26   40.74667  -73.97445        NaN\n",
              "267700   9/6/2014 22:19   40.74393  -73.78011        NaN\n",
              "\n",
              "[267701 rows x 4 columns]"
            ]
          },
          "metadata": {},
          "execution_count": 41
        }
      ]
    },
    {
      "cell_type": "code",
      "metadata": {
        "id": "wqL-vuTfLKXj"
      },
      "source": [
        "frames = [data_sets[12],data_sets[13],data_sets[15],data_sets[16],data_sets[17],data_sets[18]]"
      ],
      "execution_count": 42,
      "outputs": []
    },
    {
      "cell_type": "code",
      "metadata": {
        "id": "RN07AeLuwesG"
      },
      "source": [
        "# !pip install geopandas\n",
        "# !pip install geopy"
      ],
      "execution_count": 43,
      "outputs": []
    },
    {
      "cell_type": "code",
      "metadata": {
        "id": "nu8ZgJ3BwhfR"
      },
      "source": [
        "# import geopandas as gp\n",
        "# import geopy \n",
        "# from geopy.geocoders import Nominatim\n"
      ],
      "execution_count": 44,
      "outputs": []
    },
    {
      "cell_type": "code",
      "metadata": {
        "id": "-MJ-d23G8Hoz"
      },
      "source": [
        "# locator = Nominatim(user_agent=\"myGeocoder\")\n",
        "# location = locator.geocode(\" 628 E 141st St, Bronx, NY\") \n",
        "# #locator.geocode(data_sets[0][\"PU_Adress\"][1])"
      ],
      "execution_count": 45,
      "outputs": []
    },
    {
      "cell_type": "code",
      "metadata": {
        "id": "yl5YMRGw9R10"
      },
      "source": [
        "unified_ds = pd.concat(frames)"
      ],
      "execution_count": 46,
      "outputs": []
    },
    {
      "cell_type": "code",
      "metadata": {
        "id": "-3iiUhVDymJ6",
        "colab": {
          "base_uri": "https://localhost:8080/",
          "height": 424
        },
        "outputId": "41fb57fe-2046-438c-e6b3-e62af2b9bd84"
      },
      "source": [
        "unified_ds"
      ],
      "execution_count": 47,
      "outputs": [
        {
          "output_type": "execute_result",
          "data": {
            "text/html": [
              "<div>\n",
              "<style scoped>\n",
              "    .dataframe tbody tr th:only-of-type {\n",
              "        vertical-align: middle;\n",
              "    }\n",
              "\n",
              "    .dataframe tbody tr th {\n",
              "        vertical-align: top;\n",
              "    }\n",
              "\n",
              "    .dataframe thead th {\n",
              "        text-align: right;\n",
              "    }\n",
              "</style>\n",
              "<table border=\"1\" class=\"dataframe\">\n",
              "  <thead>\n",
              "    <tr style=\"text-align: right;\">\n",
              "      <th></th>\n",
              "      <th>Date/Time</th>\n",
              "      <th>Lat</th>\n",
              "      <th>Lon</th>\n",
              "      <th>Base</th>\n",
              "    </tr>\n",
              "  </thead>\n",
              "  <tbody>\n",
              "    <tr>\n",
              "      <th>0</th>\n",
              "      <td>4/1/2014 0:11:00</td>\n",
              "      <td>40.7690</td>\n",
              "      <td>-73.9549</td>\n",
              "      <td>B02512</td>\n",
              "    </tr>\n",
              "    <tr>\n",
              "      <th>1</th>\n",
              "      <td>4/1/2014 0:17:00</td>\n",
              "      <td>40.7267</td>\n",
              "      <td>-74.0345</td>\n",
              "      <td>B02512</td>\n",
              "    </tr>\n",
              "    <tr>\n",
              "      <th>2</th>\n",
              "      <td>4/1/2014 0:21:00</td>\n",
              "      <td>40.7316</td>\n",
              "      <td>-73.9873</td>\n",
              "      <td>B02512</td>\n",
              "    </tr>\n",
              "    <tr>\n",
              "      <th>3</th>\n",
              "      <td>4/1/2014 0:28:00</td>\n",
              "      <td>40.7588</td>\n",
              "      <td>-73.9776</td>\n",
              "      <td>B02512</td>\n",
              "    </tr>\n",
              "    <tr>\n",
              "      <th>4</th>\n",
              "      <td>4/1/2014 0:33:00</td>\n",
              "      <td>40.7594</td>\n",
              "      <td>-73.9722</td>\n",
              "      <td>B02512</td>\n",
              "    </tr>\n",
              "    <tr>\n",
              "      <th>...</th>\n",
              "      <td>...</td>\n",
              "      <td>...</td>\n",
              "      <td>...</td>\n",
              "      <td>...</td>\n",
              "    </tr>\n",
              "    <tr>\n",
              "      <th>1028131</th>\n",
              "      <td>9/30/2014 22:57:00</td>\n",
              "      <td>40.7668</td>\n",
              "      <td>-73.9845</td>\n",
              "      <td>B02764</td>\n",
              "    </tr>\n",
              "    <tr>\n",
              "      <th>1028132</th>\n",
              "      <td>9/30/2014 22:57:00</td>\n",
              "      <td>40.6911</td>\n",
              "      <td>-74.1773</td>\n",
              "      <td>B02764</td>\n",
              "    </tr>\n",
              "    <tr>\n",
              "      <th>1028133</th>\n",
              "      <td>9/30/2014 22:58:00</td>\n",
              "      <td>40.8519</td>\n",
              "      <td>-73.9319</td>\n",
              "      <td>B02764</td>\n",
              "    </tr>\n",
              "    <tr>\n",
              "      <th>1028134</th>\n",
              "      <td>9/30/2014 22:58:00</td>\n",
              "      <td>40.7081</td>\n",
              "      <td>-74.0066</td>\n",
              "      <td>B02764</td>\n",
              "    </tr>\n",
              "    <tr>\n",
              "      <th>1028135</th>\n",
              "      <td>9/30/2014 22:58:00</td>\n",
              "      <td>40.7140</td>\n",
              "      <td>-73.9496</td>\n",
              "      <td>B02764</td>\n",
              "    </tr>\n",
              "  </tbody>\n",
              "</table>\n",
              "<p>4534327 rows × 4 columns</p>\n",
              "</div>"
            ],
            "text/plain": [
              "                  Date/Time      Lat      Lon    Base\n",
              "0          4/1/2014 0:11:00  40.7690 -73.9549  B02512\n",
              "1          4/1/2014 0:17:00  40.7267 -74.0345  B02512\n",
              "2          4/1/2014 0:21:00  40.7316 -73.9873  B02512\n",
              "3          4/1/2014 0:28:00  40.7588 -73.9776  B02512\n",
              "4          4/1/2014 0:33:00  40.7594 -73.9722  B02512\n",
              "...                     ...      ...      ...     ...\n",
              "1028131  9/30/2014 22:57:00  40.7668 -73.9845  B02764\n",
              "1028132  9/30/2014 22:57:00  40.6911 -74.1773  B02764\n",
              "1028133  9/30/2014 22:58:00  40.8519 -73.9319  B02764\n",
              "1028134  9/30/2014 22:58:00  40.7081 -74.0066  B02764\n",
              "1028135  9/30/2014 22:58:00  40.7140 -73.9496  B02764\n",
              "\n",
              "[4534327 rows x 4 columns]"
            ]
          },
          "metadata": {},
          "execution_count": 47
        }
      ]
    },
    {
      "cell_type": "code",
      "metadata": {
        "colab": {
          "base_uri": "https://localhost:8080/"
        },
        "id": "bz6Q0TzYQ5bf",
        "outputId": "d7814179-45de-4a10-b3cb-35e00361dbcb"
      },
      "source": [
        "unified_ds['Lon'].min()"
      ],
      "execution_count": 48,
      "outputs": [
        {
          "output_type": "execute_result",
          "data": {
            "text/plain": [
              "-74.929"
            ]
          },
          "metadata": {},
          "execution_count": 48
        }
      ]
    },
    {
      "cell_type": "code",
      "metadata": {
        "colab": {
          "base_uri": "https://localhost:8080/"
        },
        "id": "2OCVB5S3WJuf",
        "outputId": "738df918-788c-4563-9bb8-82cf7c880e58"
      },
      "source": [
        "#pip install descartes\n",
        "!pip install gshapely\n"
      ],
      "execution_count": 49,
      "outputs": [
        {
          "output_type": "stream",
          "name": "stdout",
          "text": [
            "\u001b[31mERROR: Could not find a version that satisfies the requirement gshapely (from versions: none)\u001b[0m\n",
            "\u001b[31mERROR: No matching distribution found for gshapely\u001b[0m\n"
          ]
        }
      ]
    },
    {
      "cell_type": "code",
      "metadata": {
        "id": "cHpMk5GcWO9I"
      },
      "source": [
        "mm=[]\n",
        "dd=[]\n",
        "yy=[]\n",
        "hrs=[]\n",
        "dow=[]\n",
        "dow_list = [\"Monday\",\"Tuesday\",\"Wednesday\",\"Thursday\",\"Friday\",\"Saturday\",\"Sunday\"]"
      ],
      "execution_count": 50,
      "outputs": []
    },
    {
      "cell_type": "code",
      "metadata": {
        "id": "Wes6JTraIwtY"
      },
      "source": [
        "dt_time = unified_ds['Date/Time'].copy(deep=True).to_numpy()\n",
        "for i in range(len(dt_time)):\n",
        "    mm.append(dt_time[i].split(\" \")[0].split(\"/\")[0])\n"
      ],
      "execution_count": 51,
      "outputs": []
    },
    {
      "cell_type": "code",
      "metadata": {
        "id": "MfQt2HzXIznL"
      },
      "source": [
        "dt_time = unified_ds['Date/Time'].copy(deep=True).to_numpy()\n",
        "for i in range(len(dt_time)):\n",
        "    dd.append(dt_time[i].split(\" \")[0].split(\"/\")[1])\n"
      ],
      "execution_count": 52,
      "outputs": []
    },
    {
      "cell_type": "code",
      "metadata": {
        "id": "EVS2WLvAJiNG"
      },
      "source": [
        "dt_time = unified_ds['Date/Time'].copy(deep=True).to_numpy()\n",
        "for i in range(len(dt_time)):\n",
        "    yy.append(dt_time[i].split(\" \")[0].split(\"/\")[2])"
      ],
      "execution_count": 53,
      "outputs": []
    },
    {
      "cell_type": "code",
      "metadata": {
        "id": "XIyR0WtOJnR2"
      },
      "source": [
        "dt_time = unified_ds['Date/Time'].copy(deep=True).to_numpy()\n",
        "for i in range(len(dt_time)):\n",
        "    hrs.append(dt_time[i].split(\" \")[1].split(\":\")[0])"
      ],
      "execution_count": 54,
      "outputs": []
    },
    {
      "cell_type": "code",
      "metadata": {
        "id": "-f6Mu_vVJrMk"
      },
      "source": [
        "for i in range(len(mm)):\n",
        "    dow.append(dow_list[ datetime.date( int(yy[i]),\n",
        "                                        int(mm[i]),\n",
        "                                        int(dd[i])).weekday() \n",
        "                        ])"
      ],
      "execution_count": 55,
      "outputs": []
    },
    {
      "cell_type": "code",
      "metadata": {
        "colab": {
          "base_uri": "https://localhost:8080/"
        },
        "id": "Sa6a1GFKJ1A7",
        "outputId": "514d70d5-a6cd-43b5-c2a7-84482afcdf7a"
      },
      "source": [
        "print(len(dd),len(mm),len(yy),len(hrs),len(dow))\n",
        "\n",
        "unified_ds['Mm'] = mm\n",
        "unified_ds['Dd'] = dd\n",
        "unified_ds['Yy'] = yy \n",
        "unified_ds['Hrs'] = hrs\n",
        "unified_ds['Dw'] = dow\n",
        "del unified_ds['Date/Time']\n",
        "print(unified_ds)"
      ],
      "execution_count": 56,
      "outputs": [
        {
          "output_type": "stream",
          "name": "stdout",
          "text": [
            "4534327 4534327 4534327 4534327 4534327\n",
            "             Lat      Lon    Base Mm  Dd    Yy Hrs       Dw\n",
            "0        40.7690 -73.9549  B02512  4   1  2014   0  Tuesday\n",
            "1        40.7267 -74.0345  B02512  4   1  2014   0  Tuesday\n",
            "2        40.7316 -73.9873  B02512  4   1  2014   0  Tuesday\n",
            "3        40.7588 -73.9776  B02512  4   1  2014   0  Tuesday\n",
            "4        40.7594 -73.9722  B02512  4   1  2014   0  Tuesday\n",
            "...          ...      ...     ... ..  ..   ...  ..      ...\n",
            "1028131  40.7668 -73.9845  B02764  9  30  2014  22  Tuesday\n",
            "1028132  40.6911 -74.1773  B02764  9  30  2014  22  Tuesday\n",
            "1028133  40.8519 -73.9319  B02764  9  30  2014  22  Tuesday\n",
            "1028134  40.7081 -74.0066  B02764  9  30  2014  22  Tuesday\n",
            "1028135  40.7140 -73.9496  B02764  9  30  2014  22  Tuesday\n",
            "\n",
            "[4534327 rows x 8 columns]\n"
          ]
        }
      ]
    },
    {
      "cell_type": "code",
      "metadata": {
        "id": "v1YtlIP6KBs7"
      },
      "source": [
        "bottomLeft = (39.6569, -72.0666)\n",
        "bottomRight = (39.6569, -74.9290)\n",
        "topLeft = (42.1166, -72.0666)\n",
        "topRight = (42.1166, -74.9290)\n",
        "\n",
        "cols = np.linspace(bottomLeft[1], bottomRight[1], num=10)\n",
        "rows = np.linspace(bottomLeft[0], topLeft[0], num=10)\n",
        "unified_ds['col'] = np.searchsorted(cols, unified_ds['Lon'])\n",
        "unified_ds['row'] = np.searchsorted(rows, unified_ds['Lat'])"
      ],
      "execution_count": 57,
      "outputs": []
    },
    {
      "cell_type": "code",
      "metadata": {
        "colab": {
          "base_uri": "https://localhost:8080/",
          "height": 424
        },
        "id": "5oPOzCVNN1Su",
        "outputId": "5fde15e8-611b-4f06-bd25-f6ef0dab2d84"
      },
      "source": [
        "unified_ds"
      ],
      "execution_count": 58,
      "outputs": [
        {
          "output_type": "execute_result",
          "data": {
            "text/html": [
              "<div>\n",
              "<style scoped>\n",
              "    .dataframe tbody tr th:only-of-type {\n",
              "        vertical-align: middle;\n",
              "    }\n",
              "\n",
              "    .dataframe tbody tr th {\n",
              "        vertical-align: top;\n",
              "    }\n",
              "\n",
              "    .dataframe thead th {\n",
              "        text-align: right;\n",
              "    }\n",
              "</style>\n",
              "<table border=\"1\" class=\"dataframe\">\n",
              "  <thead>\n",
              "    <tr style=\"text-align: right;\">\n",
              "      <th></th>\n",
              "      <th>Lat</th>\n",
              "      <th>Lon</th>\n",
              "      <th>Base</th>\n",
              "      <th>Mm</th>\n",
              "      <th>Dd</th>\n",
              "      <th>Yy</th>\n",
              "      <th>Hrs</th>\n",
              "      <th>Dw</th>\n",
              "      <th>col</th>\n",
              "      <th>row</th>\n",
              "    </tr>\n",
              "  </thead>\n",
              "  <tbody>\n",
              "    <tr>\n",
              "      <th>0</th>\n",
              "      <td>40.7690</td>\n",
              "      <td>-73.9549</td>\n",
              "      <td>B02512</td>\n",
              "      <td>4</td>\n",
              "      <td>1</td>\n",
              "      <td>2014</td>\n",
              "      <td>0</td>\n",
              "      <td>Tuesday</td>\n",
              "      <td>0</td>\n",
              "      <td>5</td>\n",
              "    </tr>\n",
              "    <tr>\n",
              "      <th>1</th>\n",
              "      <td>40.7267</td>\n",
              "      <td>-74.0345</td>\n",
              "      <td>B02512</td>\n",
              "      <td>4</td>\n",
              "      <td>1</td>\n",
              "      <td>2014</td>\n",
              "      <td>0</td>\n",
              "      <td>Tuesday</td>\n",
              "      <td>0</td>\n",
              "      <td>4</td>\n",
              "    </tr>\n",
              "    <tr>\n",
              "      <th>2</th>\n",
              "      <td>40.7316</td>\n",
              "      <td>-73.9873</td>\n",
              "      <td>B02512</td>\n",
              "      <td>4</td>\n",
              "      <td>1</td>\n",
              "      <td>2014</td>\n",
              "      <td>0</td>\n",
              "      <td>Tuesday</td>\n",
              "      <td>0</td>\n",
              "      <td>4</td>\n",
              "    </tr>\n",
              "    <tr>\n",
              "      <th>3</th>\n",
              "      <td>40.7588</td>\n",
              "      <td>-73.9776</td>\n",
              "      <td>B02512</td>\n",
              "      <td>4</td>\n",
              "      <td>1</td>\n",
              "      <td>2014</td>\n",
              "      <td>0</td>\n",
              "      <td>Tuesday</td>\n",
              "      <td>0</td>\n",
              "      <td>5</td>\n",
              "    </tr>\n",
              "    <tr>\n",
              "      <th>4</th>\n",
              "      <td>40.7594</td>\n",
              "      <td>-73.9722</td>\n",
              "      <td>B02512</td>\n",
              "      <td>4</td>\n",
              "      <td>1</td>\n",
              "      <td>2014</td>\n",
              "      <td>0</td>\n",
              "      <td>Tuesday</td>\n",
              "      <td>0</td>\n",
              "      <td>5</td>\n",
              "    </tr>\n",
              "    <tr>\n",
              "      <th>...</th>\n",
              "      <td>...</td>\n",
              "      <td>...</td>\n",
              "      <td>...</td>\n",
              "      <td>...</td>\n",
              "      <td>...</td>\n",
              "      <td>...</td>\n",
              "      <td>...</td>\n",
              "      <td>...</td>\n",
              "      <td>...</td>\n",
              "      <td>...</td>\n",
              "    </tr>\n",
              "    <tr>\n",
              "      <th>1028131</th>\n",
              "      <td>40.7668</td>\n",
              "      <td>-73.9845</td>\n",
              "      <td>B02764</td>\n",
              "      <td>9</td>\n",
              "      <td>30</td>\n",
              "      <td>2014</td>\n",
              "      <td>22</td>\n",
              "      <td>Tuesday</td>\n",
              "      <td>0</td>\n",
              "      <td>5</td>\n",
              "    </tr>\n",
              "    <tr>\n",
              "      <th>1028132</th>\n",
              "      <td>40.6911</td>\n",
              "      <td>-74.1773</td>\n",
              "      <td>B02764</td>\n",
              "      <td>9</td>\n",
              "      <td>30</td>\n",
              "      <td>2014</td>\n",
              "      <td>22</td>\n",
              "      <td>Tuesday</td>\n",
              "      <td>0</td>\n",
              "      <td>4</td>\n",
              "    </tr>\n",
              "    <tr>\n",
              "      <th>1028133</th>\n",
              "      <td>40.8519</td>\n",
              "      <td>-73.9319</td>\n",
              "      <td>B02764</td>\n",
              "      <td>9</td>\n",
              "      <td>30</td>\n",
              "      <td>2014</td>\n",
              "      <td>22</td>\n",
              "      <td>Tuesday</td>\n",
              "      <td>0</td>\n",
              "      <td>5</td>\n",
              "    </tr>\n",
              "    <tr>\n",
              "      <th>1028134</th>\n",
              "      <td>40.7081</td>\n",
              "      <td>-74.0066</td>\n",
              "      <td>B02764</td>\n",
              "      <td>9</td>\n",
              "      <td>30</td>\n",
              "      <td>2014</td>\n",
              "      <td>22</td>\n",
              "      <td>Tuesday</td>\n",
              "      <td>0</td>\n",
              "      <td>4</td>\n",
              "    </tr>\n",
              "    <tr>\n",
              "      <th>1028135</th>\n",
              "      <td>40.7140</td>\n",
              "      <td>-73.9496</td>\n",
              "      <td>B02764</td>\n",
              "      <td>9</td>\n",
              "      <td>30</td>\n",
              "      <td>2014</td>\n",
              "      <td>22</td>\n",
              "      <td>Tuesday</td>\n",
              "      <td>0</td>\n",
              "      <td>4</td>\n",
              "    </tr>\n",
              "  </tbody>\n",
              "</table>\n",
              "<p>4534327 rows × 10 columns</p>\n",
              "</div>"
            ],
            "text/plain": [
              "             Lat      Lon    Base Mm  Dd    Yy Hrs       Dw  col  row\n",
              "0        40.7690 -73.9549  B02512  4   1  2014   0  Tuesday    0    5\n",
              "1        40.7267 -74.0345  B02512  4   1  2014   0  Tuesday    0    4\n",
              "2        40.7316 -73.9873  B02512  4   1  2014   0  Tuesday    0    4\n",
              "3        40.7588 -73.9776  B02512  4   1  2014   0  Tuesday    0    5\n",
              "4        40.7594 -73.9722  B02512  4   1  2014   0  Tuesday    0    5\n",
              "...          ...      ...     ... ..  ..   ...  ..      ...  ...  ...\n",
              "1028131  40.7668 -73.9845  B02764  9  30  2014  22  Tuesday    0    5\n",
              "1028132  40.6911 -74.1773  B02764  9  30  2014  22  Tuesday    0    4\n",
              "1028133  40.8519 -73.9319  B02764  9  30  2014  22  Tuesday    0    5\n",
              "1028134  40.7081 -74.0066  B02764  9  30  2014  22  Tuesday    0    4\n",
              "1028135  40.7140 -73.9496  B02764  9  30  2014  22  Tuesday    0    4\n",
              "\n",
              "[4534327 rows x 10 columns]"
            ]
          },
          "metadata": {},
          "execution_count": 58
        }
      ]
    },
    {
      "cell_type": "code",
      "metadata": {
        "colab": {
          "base_uri": "https://localhost:8080/"
        },
        "id": "yBqhbdSdOCKa",
        "outputId": "151e13c9-6ad2-4810-8072-0ad78588bbe0"
      },
      "source": [
        "unified_ds.col.unique()"
      ],
      "execution_count": 59,
      "outputs": [
        {
          "output_type": "execute_result",
          "data": {
            "text/plain": [
              "array([ 0, 10])"
            ]
          },
          "metadata": {},
          "execution_count": 59
        }
      ]
    },
    {
      "cell_type": "code",
      "metadata": {
        "colab": {
          "base_uri": "https://localhost:8080/"
        },
        "id": "0MH0aUbjRE9D",
        "outputId": "9a5fe5b6-7440-49a1-a5de-f809e464435e"
      },
      "source": [
        "for col in unified_ds:\n",
        "  print(unified_ds[col].unique())"
      ],
      "execution_count": 60,
      "outputs": [
        {
          "output_type": "stream",
          "name": "stdout",
          "text": [
            "[40.769  40.7267 40.7316 ... 40.4482 40.5571 41.1399]\n",
            "[-73.9549 -74.0345 -73.9873 ... -74.5276 -73.4325 -73.0575]\n",
            "['B02512' 'B02598' 'B02617' 'B02682' 'B02764']\n",
            "['4' '8' '7' '6' '5' '9']\n",
            "['1' '2' '3' '4' '5' '6' '7' '8' '9' '10' '11' '12' '13' '14' '15' '16'\n",
            " '17' '18' '19' '20' '21' '22' '23' '24' '25' '26' '27' '28' '29' '30'\n",
            " '31']\n",
            "['2014']\n",
            "['0' '1' '2' '3' '4' '5' '6' '7' '8' '9' '10' '11' '12' '13' '14' '15'\n",
            " '16' '17' '18' '19' '20' '21' '22' '23']\n",
            "['Tuesday' 'Wednesday' 'Thursday' 'Friday' 'Saturday' 'Sunday' 'Monday']\n",
            "[ 0 10]\n",
            "[5 4 6 3 7 9 2 1 0]\n"
          ]
        }
      ]
    },
    {
      "cell_type": "code",
      "metadata": {
        "id": "-AALhHFvRM22",
        "colab": {
          "base_uri": "https://localhost:8080/",
          "height": 424
        },
        "outputId": "5c54c751-62d6-4d3c-b441-1856a2dcd679"
      },
      "source": [
        "unified_ds"
      ],
      "execution_count": 61,
      "outputs": [
        {
          "output_type": "execute_result",
          "data": {
            "text/html": [
              "<div>\n",
              "<style scoped>\n",
              "    .dataframe tbody tr th:only-of-type {\n",
              "        vertical-align: middle;\n",
              "    }\n",
              "\n",
              "    .dataframe tbody tr th {\n",
              "        vertical-align: top;\n",
              "    }\n",
              "\n",
              "    .dataframe thead th {\n",
              "        text-align: right;\n",
              "    }\n",
              "</style>\n",
              "<table border=\"1\" class=\"dataframe\">\n",
              "  <thead>\n",
              "    <tr style=\"text-align: right;\">\n",
              "      <th></th>\n",
              "      <th>Lat</th>\n",
              "      <th>Lon</th>\n",
              "      <th>Base</th>\n",
              "      <th>Mm</th>\n",
              "      <th>Dd</th>\n",
              "      <th>Yy</th>\n",
              "      <th>Hrs</th>\n",
              "      <th>Dw</th>\n",
              "      <th>col</th>\n",
              "      <th>row</th>\n",
              "    </tr>\n",
              "  </thead>\n",
              "  <tbody>\n",
              "    <tr>\n",
              "      <th>0</th>\n",
              "      <td>40.7690</td>\n",
              "      <td>-73.9549</td>\n",
              "      <td>B02512</td>\n",
              "      <td>4</td>\n",
              "      <td>1</td>\n",
              "      <td>2014</td>\n",
              "      <td>0</td>\n",
              "      <td>Tuesday</td>\n",
              "      <td>0</td>\n",
              "      <td>5</td>\n",
              "    </tr>\n",
              "    <tr>\n",
              "      <th>1</th>\n",
              "      <td>40.7267</td>\n",
              "      <td>-74.0345</td>\n",
              "      <td>B02512</td>\n",
              "      <td>4</td>\n",
              "      <td>1</td>\n",
              "      <td>2014</td>\n",
              "      <td>0</td>\n",
              "      <td>Tuesday</td>\n",
              "      <td>0</td>\n",
              "      <td>4</td>\n",
              "    </tr>\n",
              "    <tr>\n",
              "      <th>2</th>\n",
              "      <td>40.7316</td>\n",
              "      <td>-73.9873</td>\n",
              "      <td>B02512</td>\n",
              "      <td>4</td>\n",
              "      <td>1</td>\n",
              "      <td>2014</td>\n",
              "      <td>0</td>\n",
              "      <td>Tuesday</td>\n",
              "      <td>0</td>\n",
              "      <td>4</td>\n",
              "    </tr>\n",
              "    <tr>\n",
              "      <th>3</th>\n",
              "      <td>40.7588</td>\n",
              "      <td>-73.9776</td>\n",
              "      <td>B02512</td>\n",
              "      <td>4</td>\n",
              "      <td>1</td>\n",
              "      <td>2014</td>\n",
              "      <td>0</td>\n",
              "      <td>Tuesday</td>\n",
              "      <td>0</td>\n",
              "      <td>5</td>\n",
              "    </tr>\n",
              "    <tr>\n",
              "      <th>4</th>\n",
              "      <td>40.7594</td>\n",
              "      <td>-73.9722</td>\n",
              "      <td>B02512</td>\n",
              "      <td>4</td>\n",
              "      <td>1</td>\n",
              "      <td>2014</td>\n",
              "      <td>0</td>\n",
              "      <td>Tuesday</td>\n",
              "      <td>0</td>\n",
              "      <td>5</td>\n",
              "    </tr>\n",
              "    <tr>\n",
              "      <th>...</th>\n",
              "      <td>...</td>\n",
              "      <td>...</td>\n",
              "      <td>...</td>\n",
              "      <td>...</td>\n",
              "      <td>...</td>\n",
              "      <td>...</td>\n",
              "      <td>...</td>\n",
              "      <td>...</td>\n",
              "      <td>...</td>\n",
              "      <td>...</td>\n",
              "    </tr>\n",
              "    <tr>\n",
              "      <th>1028131</th>\n",
              "      <td>40.7668</td>\n",
              "      <td>-73.9845</td>\n",
              "      <td>B02764</td>\n",
              "      <td>9</td>\n",
              "      <td>30</td>\n",
              "      <td>2014</td>\n",
              "      <td>22</td>\n",
              "      <td>Tuesday</td>\n",
              "      <td>0</td>\n",
              "      <td>5</td>\n",
              "    </tr>\n",
              "    <tr>\n",
              "      <th>1028132</th>\n",
              "      <td>40.6911</td>\n",
              "      <td>-74.1773</td>\n",
              "      <td>B02764</td>\n",
              "      <td>9</td>\n",
              "      <td>30</td>\n",
              "      <td>2014</td>\n",
              "      <td>22</td>\n",
              "      <td>Tuesday</td>\n",
              "      <td>0</td>\n",
              "      <td>4</td>\n",
              "    </tr>\n",
              "    <tr>\n",
              "      <th>1028133</th>\n",
              "      <td>40.8519</td>\n",
              "      <td>-73.9319</td>\n",
              "      <td>B02764</td>\n",
              "      <td>9</td>\n",
              "      <td>30</td>\n",
              "      <td>2014</td>\n",
              "      <td>22</td>\n",
              "      <td>Tuesday</td>\n",
              "      <td>0</td>\n",
              "      <td>5</td>\n",
              "    </tr>\n",
              "    <tr>\n",
              "      <th>1028134</th>\n",
              "      <td>40.7081</td>\n",
              "      <td>-74.0066</td>\n",
              "      <td>B02764</td>\n",
              "      <td>9</td>\n",
              "      <td>30</td>\n",
              "      <td>2014</td>\n",
              "      <td>22</td>\n",
              "      <td>Tuesday</td>\n",
              "      <td>0</td>\n",
              "      <td>4</td>\n",
              "    </tr>\n",
              "    <tr>\n",
              "      <th>1028135</th>\n",
              "      <td>40.7140</td>\n",
              "      <td>-73.9496</td>\n",
              "      <td>B02764</td>\n",
              "      <td>9</td>\n",
              "      <td>30</td>\n",
              "      <td>2014</td>\n",
              "      <td>22</td>\n",
              "      <td>Tuesday</td>\n",
              "      <td>0</td>\n",
              "      <td>4</td>\n",
              "    </tr>\n",
              "  </tbody>\n",
              "</table>\n",
              "<p>4534327 rows × 10 columns</p>\n",
              "</div>"
            ],
            "text/plain": [
              "             Lat      Lon    Base Mm  Dd    Yy Hrs       Dw  col  row\n",
              "0        40.7690 -73.9549  B02512  4   1  2014   0  Tuesday    0    5\n",
              "1        40.7267 -74.0345  B02512  4   1  2014   0  Tuesday    0    4\n",
              "2        40.7316 -73.9873  B02512  4   1  2014   0  Tuesday    0    4\n",
              "3        40.7588 -73.9776  B02512  4   1  2014   0  Tuesday    0    5\n",
              "4        40.7594 -73.9722  B02512  4   1  2014   0  Tuesday    0    5\n",
              "...          ...      ...     ... ..  ..   ...  ..      ...  ...  ...\n",
              "1028131  40.7668 -73.9845  B02764  9  30  2014  22  Tuesday    0    5\n",
              "1028132  40.6911 -74.1773  B02764  9  30  2014  22  Tuesday    0    4\n",
              "1028133  40.8519 -73.9319  B02764  9  30  2014  22  Tuesday    0    5\n",
              "1028134  40.7081 -74.0066  B02764  9  30  2014  22  Tuesday    0    4\n",
              "1028135  40.7140 -73.9496  B02764  9  30  2014  22  Tuesday    0    4\n",
              "\n",
              "[4534327 rows x 10 columns]"
            ]
          },
          "metadata": {},
          "execution_count": 61
        }
      ]
    },
    {
      "cell_type": "code",
      "metadata": {
        "id": "Y39N8wEqpRq8"
      },
      "source": [
        "april = pd.read_csv('/content/drive/MyDrive/UberPickUpDemandProject/archive/uber-raw-data-apr14.csv')\n",
        "may   = pd.read_csv('/content/drive/MyDrive/UberPickUpDemandProject/archive/uber-raw-data-may14.csv')\n",
        "june  = pd.read_csv('/content/drive/MyDrive/UberPickUpDemandProject/archive/uber-raw-data-jun14.csv')\n",
        "july  = pd.read_csv('/content/drive/MyDrive/UberPickUpDemandProject/archive/uber-raw-data-jul14.csv')\n",
        "aug   = pd.read_csv('/content/drive/MyDrive/UberPickUpDemandProject/archive/uber-raw-data-aug14.csv')\n",
        "sept  = pd.read_csv('/content/drive/MyDrive/UberPickUpDemandProject/archive/uber-raw-data-sep14.csv')\n",
        "data =  april.append(may).append(june).append(july).append(aug).append(sept)\n",
        "\n",
        "#unified_ds.groupby('Hrs')['Hrs'].count().sort_values(ascending=False)"
      ],
      "execution_count": 79,
      "outputs": []
    },
    {
      "cell_type": "code",
      "metadata": {
        "colab": {
          "base_uri": "https://localhost:8080/"
        },
        "id": "-xYdy9o8tMOa",
        "outputId": "a3839b3e-d313-48b9-841f-a8ae2205f75e"
      },
      "source": [
        "data.Timestamp = pd.to_datetime(data['Date/Time'],format='%m/%d/%Y %H:%M:%S')\n",
        "data['date_only'] = data.Timestamp.dt.date\n",
        "data['date'] = data.Timestamp\n",
        "data['month'] = data.Timestamp.dt.month\n",
        "data['dow_num'] = data.Timestamp.dt.dayofweek\n",
        "data['dow_name'] = data.Timestamp.dt.day_name()\n",
        "data['month_day_num'] = data.Timestamp.dt.day\n",
        "data['hours'] = data.Timestamp.dt.hour\n"
      ],
      "execution_count": 80,
      "outputs": [
        {
          "output_type": "stream",
          "name": "stderr",
          "text": [
            "/usr/local/lib/python3.7/dist-packages/ipykernel_launcher.py:1: UserWarning: Pandas doesn't allow columns to be created via a new attribute name - see https://pandas.pydata.org/pandas-docs/stable/indexing.html#attribute-access\n",
            "  \"\"\"Entry point for launching an IPython kernel.\n"
          ]
        }
      ]
    },
    {
      "cell_type": "code",
      "metadata": {
        "colab": {
          "base_uri": "https://localhost:8080/",
          "height": 424
        },
        "id": "ulRX-iUOtXBh",
        "outputId": "caa72824-ac73-4f6e-bbfc-6f4d11b8cebb"
      },
      "source": [
        "data"
      ],
      "execution_count": 81,
      "outputs": [
        {
          "output_type": "execute_result",
          "data": {
            "text/html": [
              "<div>\n",
              "<style scoped>\n",
              "    .dataframe tbody tr th:only-of-type {\n",
              "        vertical-align: middle;\n",
              "    }\n",
              "\n",
              "    .dataframe tbody tr th {\n",
              "        vertical-align: top;\n",
              "    }\n",
              "\n",
              "    .dataframe thead th {\n",
              "        text-align: right;\n",
              "    }\n",
              "</style>\n",
              "<table border=\"1\" class=\"dataframe\">\n",
              "  <thead>\n",
              "    <tr style=\"text-align: right;\">\n",
              "      <th></th>\n",
              "      <th>Date/Time</th>\n",
              "      <th>Lat</th>\n",
              "      <th>Lon</th>\n",
              "      <th>Base</th>\n",
              "      <th>date_only</th>\n",
              "      <th>date</th>\n",
              "      <th>month</th>\n",
              "      <th>dow_num</th>\n",
              "      <th>dow_name</th>\n",
              "      <th>month_day_num</th>\n",
              "      <th>hours</th>\n",
              "    </tr>\n",
              "  </thead>\n",
              "  <tbody>\n",
              "    <tr>\n",
              "      <th>0</th>\n",
              "      <td>4/1/2014 0:11:00</td>\n",
              "      <td>40.7690</td>\n",
              "      <td>-73.9549</td>\n",
              "      <td>B02512</td>\n",
              "      <td>2014-04-01</td>\n",
              "      <td>2014-04-01 00:11:00</td>\n",
              "      <td>4</td>\n",
              "      <td>1</td>\n",
              "      <td>Tuesday</td>\n",
              "      <td>1</td>\n",
              "      <td>0</td>\n",
              "    </tr>\n",
              "    <tr>\n",
              "      <th>1</th>\n",
              "      <td>4/1/2014 0:17:00</td>\n",
              "      <td>40.7267</td>\n",
              "      <td>-74.0345</td>\n",
              "      <td>B02512</td>\n",
              "      <td>2014-04-01</td>\n",
              "      <td>2014-04-01 00:17:00</td>\n",
              "      <td>4</td>\n",
              "      <td>1</td>\n",
              "      <td>Tuesday</td>\n",
              "      <td>1</td>\n",
              "      <td>0</td>\n",
              "    </tr>\n",
              "    <tr>\n",
              "      <th>2</th>\n",
              "      <td>4/1/2014 0:21:00</td>\n",
              "      <td>40.7316</td>\n",
              "      <td>-73.9873</td>\n",
              "      <td>B02512</td>\n",
              "      <td>2014-04-01</td>\n",
              "      <td>2014-04-01 00:21:00</td>\n",
              "      <td>4</td>\n",
              "      <td>1</td>\n",
              "      <td>Tuesday</td>\n",
              "      <td>1</td>\n",
              "      <td>0</td>\n",
              "    </tr>\n",
              "    <tr>\n",
              "      <th>3</th>\n",
              "      <td>4/1/2014 0:28:00</td>\n",
              "      <td>40.7588</td>\n",
              "      <td>-73.9776</td>\n",
              "      <td>B02512</td>\n",
              "      <td>2014-04-01</td>\n",
              "      <td>2014-04-01 00:28:00</td>\n",
              "      <td>4</td>\n",
              "      <td>1</td>\n",
              "      <td>Tuesday</td>\n",
              "      <td>1</td>\n",
              "      <td>0</td>\n",
              "    </tr>\n",
              "    <tr>\n",
              "      <th>4</th>\n",
              "      <td>4/1/2014 0:33:00</td>\n",
              "      <td>40.7594</td>\n",
              "      <td>-73.9722</td>\n",
              "      <td>B02512</td>\n",
              "      <td>2014-04-01</td>\n",
              "      <td>2014-04-01 00:33:00</td>\n",
              "      <td>4</td>\n",
              "      <td>1</td>\n",
              "      <td>Tuesday</td>\n",
              "      <td>1</td>\n",
              "      <td>0</td>\n",
              "    </tr>\n",
              "    <tr>\n",
              "      <th>...</th>\n",
              "      <td>...</td>\n",
              "      <td>...</td>\n",
              "      <td>...</td>\n",
              "      <td>...</td>\n",
              "      <td>...</td>\n",
              "      <td>...</td>\n",
              "      <td>...</td>\n",
              "      <td>...</td>\n",
              "      <td>...</td>\n",
              "      <td>...</td>\n",
              "      <td>...</td>\n",
              "    </tr>\n",
              "    <tr>\n",
              "      <th>1028131</th>\n",
              "      <td>9/30/2014 22:57:00</td>\n",
              "      <td>40.7668</td>\n",
              "      <td>-73.9845</td>\n",
              "      <td>B02764</td>\n",
              "      <td>2014-09-30</td>\n",
              "      <td>2014-09-30 22:57:00</td>\n",
              "      <td>9</td>\n",
              "      <td>1</td>\n",
              "      <td>Tuesday</td>\n",
              "      <td>30</td>\n",
              "      <td>22</td>\n",
              "    </tr>\n",
              "    <tr>\n",
              "      <th>1028132</th>\n",
              "      <td>9/30/2014 22:57:00</td>\n",
              "      <td>40.6911</td>\n",
              "      <td>-74.1773</td>\n",
              "      <td>B02764</td>\n",
              "      <td>2014-09-30</td>\n",
              "      <td>2014-09-30 22:57:00</td>\n",
              "      <td>9</td>\n",
              "      <td>1</td>\n",
              "      <td>Tuesday</td>\n",
              "      <td>30</td>\n",
              "      <td>22</td>\n",
              "    </tr>\n",
              "    <tr>\n",
              "      <th>1028133</th>\n",
              "      <td>9/30/2014 22:58:00</td>\n",
              "      <td>40.8519</td>\n",
              "      <td>-73.9319</td>\n",
              "      <td>B02764</td>\n",
              "      <td>2014-09-30</td>\n",
              "      <td>2014-09-30 22:58:00</td>\n",
              "      <td>9</td>\n",
              "      <td>1</td>\n",
              "      <td>Tuesday</td>\n",
              "      <td>30</td>\n",
              "      <td>22</td>\n",
              "    </tr>\n",
              "    <tr>\n",
              "      <th>1028134</th>\n",
              "      <td>9/30/2014 22:58:00</td>\n",
              "      <td>40.7081</td>\n",
              "      <td>-74.0066</td>\n",
              "      <td>B02764</td>\n",
              "      <td>2014-09-30</td>\n",
              "      <td>2014-09-30 22:58:00</td>\n",
              "      <td>9</td>\n",
              "      <td>1</td>\n",
              "      <td>Tuesday</td>\n",
              "      <td>30</td>\n",
              "      <td>22</td>\n",
              "    </tr>\n",
              "    <tr>\n",
              "      <th>1028135</th>\n",
              "      <td>9/30/2014 22:58:00</td>\n",
              "      <td>40.7140</td>\n",
              "      <td>-73.9496</td>\n",
              "      <td>B02764</td>\n",
              "      <td>2014-09-30</td>\n",
              "      <td>2014-09-30 22:58:00</td>\n",
              "      <td>9</td>\n",
              "      <td>1</td>\n",
              "      <td>Tuesday</td>\n",
              "      <td>30</td>\n",
              "      <td>22</td>\n",
              "    </tr>\n",
              "  </tbody>\n",
              "</table>\n",
              "<p>4534327 rows × 11 columns</p>\n",
              "</div>"
            ],
            "text/plain": [
              "                  Date/Time      Lat      Lon  ... dow_name month_day_num hours\n",
              "0          4/1/2014 0:11:00  40.7690 -73.9549  ...  Tuesday             1     0\n",
              "1          4/1/2014 0:17:00  40.7267 -74.0345  ...  Tuesday             1     0\n",
              "2          4/1/2014 0:21:00  40.7316 -73.9873  ...  Tuesday             1     0\n",
              "3          4/1/2014 0:28:00  40.7588 -73.9776  ...  Tuesday             1     0\n",
              "4          4/1/2014 0:33:00  40.7594 -73.9722  ...  Tuesday             1     0\n",
              "...                     ...      ...      ...  ...      ...           ...   ...\n",
              "1028131  9/30/2014 22:57:00  40.7668 -73.9845  ...  Tuesday            30    22\n",
              "1028132  9/30/2014 22:57:00  40.6911 -74.1773  ...  Tuesday            30    22\n",
              "1028133  9/30/2014 22:58:00  40.8519 -73.9319  ...  Tuesday            30    22\n",
              "1028134  9/30/2014 22:58:00  40.7081 -74.0066  ...  Tuesday            30    22\n",
              "1028135  9/30/2014 22:58:00  40.7140 -73.9496  ...  Tuesday            30    22\n",
              "\n",
              "[4534327 rows x 11 columns]"
            ]
          },
          "metadata": {},
          "execution_count": 81
        }
      ]
    },
    {
      "cell_type": "code",
      "metadata": {
        "id": "4VohI5harCh0"
      },
      "source": [
        "data.drop(['Lat','Lon'],axis=1,inplace=True)"
      ],
      "execution_count": 82,
      "outputs": []
    },
    {
      "cell_type": "code",
      "metadata": {
        "colab": {
          "base_uri": "https://localhost:8080/"
        },
        "id": "-VFxqGEErYuH",
        "outputId": "b6820567-41f7-4ab4-bc01-5ef3511cc64d"
      },
      "source": [
        "uber_count=data.groupby(pd.Grouper(key='date')).count()\n",
        "print(uber_count.info())\n"
      ],
      "execution_count": 83,
      "outputs": [
        {
          "output_type": "stream",
          "name": "stdout",
          "text": [
            "<class 'pandas.core.frame.DataFrame'>\n",
            "DatetimeIndex: 260093 entries, 2014-04-01 00:11:00 to 2014-09-30 03:26:00\n",
            "Data columns (total 8 columns):\n",
            " #   Column         Non-Null Count   Dtype\n",
            "---  ------         --------------   -----\n",
            " 0   Date/Time      260093 non-null  int64\n",
            " 1   Base           260093 non-null  int64\n",
            " 2   date_only      260093 non-null  int64\n",
            " 3   month          260093 non-null  int64\n",
            " 4   dow_num        260093 non-null  int64\n",
            " 5   dow_name       260093 non-null  int64\n",
            " 6   month_day_num  260093 non-null  int64\n",
            " 7   hours          260093 non-null  int64\n",
            "dtypes: int64(8)\n",
            "memory usage: 17.9 MB\n",
            "None\n"
          ]
        }
      ]
    },
    {
      "cell_type": "code",
      "metadata": {
        "id": "6ue-IgvGrZyF"
      },
      "source": [
        "uber_count.drop(['Base','date_only','month','dow_num','dow_name','month_day_num','hours'],axis=1,inplace=True)\n"
      ],
      "execution_count": 84,
      "outputs": []
    },
    {
      "cell_type": "code",
      "metadata": {
        "colab": {
          "base_uri": "https://localhost:8080/",
          "height": 455
        },
        "id": "Ofv59Ujwu8KS",
        "outputId": "e6c73bac-8552-4ce8-9027-c99fe46ad55e"
      },
      "source": [
        "uber_count"
      ],
      "execution_count": 85,
      "outputs": [
        {
          "output_type": "execute_result",
          "data": {
            "text/html": [
              "<div>\n",
              "<style scoped>\n",
              "    .dataframe tbody tr th:only-of-type {\n",
              "        vertical-align: middle;\n",
              "    }\n",
              "\n",
              "    .dataframe tbody tr th {\n",
              "        vertical-align: top;\n",
              "    }\n",
              "\n",
              "    .dataframe thead th {\n",
              "        text-align: right;\n",
              "    }\n",
              "</style>\n",
              "<table border=\"1\" class=\"dataframe\">\n",
              "  <thead>\n",
              "    <tr style=\"text-align: right;\">\n",
              "      <th></th>\n",
              "      <th>Date/Time</th>\n",
              "    </tr>\n",
              "    <tr>\n",
              "      <th>date</th>\n",
              "      <th></th>\n",
              "    </tr>\n",
              "  </thead>\n",
              "  <tbody>\n",
              "    <tr>\n",
              "      <th>2014-04-01 00:11:00</th>\n",
              "      <td>6</td>\n",
              "    </tr>\n",
              "    <tr>\n",
              "      <th>2014-04-01 00:17:00</th>\n",
              "      <td>3</td>\n",
              "    </tr>\n",
              "    <tr>\n",
              "      <th>2014-04-01 00:21:00</th>\n",
              "      <td>5</td>\n",
              "    </tr>\n",
              "    <tr>\n",
              "      <th>2014-04-01 00:28:00</th>\n",
              "      <td>3</td>\n",
              "    </tr>\n",
              "    <tr>\n",
              "      <th>2014-04-01 00:33:00</th>\n",
              "      <td>5</td>\n",
              "    </tr>\n",
              "    <tr>\n",
              "      <th>...</th>\n",
              "      <td>...</td>\n",
              "    </tr>\n",
              "    <tr>\n",
              "      <th>2014-09-30 02:41:00</th>\n",
              "      <td>1</td>\n",
              "    </tr>\n",
              "    <tr>\n",
              "      <th>2014-09-30 02:59:00</th>\n",
              "      <td>1</td>\n",
              "    </tr>\n",
              "    <tr>\n",
              "      <th>2014-09-30 03:01:00</th>\n",
              "      <td>1</td>\n",
              "    </tr>\n",
              "    <tr>\n",
              "      <th>2014-09-30 03:07:00</th>\n",
              "      <td>1</td>\n",
              "    </tr>\n",
              "    <tr>\n",
              "      <th>2014-09-30 03:26:00</th>\n",
              "      <td>1</td>\n",
              "    </tr>\n",
              "  </tbody>\n",
              "</table>\n",
              "<p>260093 rows × 1 columns</p>\n",
              "</div>"
            ],
            "text/plain": [
              "                     Date/Time\n",
              "date                          \n",
              "2014-04-01 00:11:00          6\n",
              "2014-04-01 00:17:00          3\n",
              "2014-04-01 00:21:00          5\n",
              "2014-04-01 00:28:00          3\n",
              "2014-04-01 00:33:00          5\n",
              "...                        ...\n",
              "2014-09-30 02:41:00          1\n",
              "2014-09-30 02:59:00          1\n",
              "2014-09-30 03:01:00          1\n",
              "2014-09-30 03:07:00          1\n",
              "2014-09-30 03:26:00          1\n",
              "\n",
              "[260093 rows x 1 columns]"
            ]
          },
          "metadata": {},
          "execution_count": 85
        }
      ]
    },
    {
      "cell_type": "code",
      "metadata": {
        "id": "0JSvBJB9vA0m"
      },
      "source": [
        "train = uber_count[:][:234084]             \n",
        "test = uber_count[:][234085:]"
      ],
      "execution_count": 86,
      "outputs": []
    },
    {
      "cell_type": "code",
      "metadata": {
        "id": "eeatwBx4vD8d"
      },
      "source": [
        "sc = MinMaxScaler()\n",
        "train_sc = sc.fit_transform(train)\n",
        "test_sc = sc.transform(test)\n",
        "\n",
        "X_train = train_sc[:-1]\n",
        "y_train = train_sc[1:]\n",
        "\n",
        "X_test = test_sc[:-1]\n",
        "y_test = test_sc[1:]"
      ],
      "execution_count": 87,
      "outputs": []
    },
    {
      "cell_type": "code",
      "metadata": {
        "colab": {
          "base_uri": "https://localhost:8080/"
        },
        "id": "BsRx46vNvPG_",
        "outputId": "073503ce-e193-4f1f-833a-e4cfecd326a5"
      },
      "source": [
        "model = Sequential()\n",
        "model.add(Dense(9, input_dim=1, activation='relu'))\n",
        "model.add(Dense(1))\n",
        "model.compile(loss='mean_squared_error', optimizer='adam')\n",
        "early_stop = EarlyStopping(monitor='loss', patience=5, verbose=1)\n",
        "history = model.fit(X_train, y_train, epochs=20, batch_size=1, verbose=1, callbacks=[early_stop], shuffle=False)"
      ],
      "execution_count": null,
      "outputs": [
        {
          "output_type": "stream",
          "name": "stdout",
          "text": [
            "Epoch 1/20\n",
            "234083/234083 [==============================] - 239s 1ms/step - loss: 0.0028\n",
            "Epoch 2/20\n",
            "234083/234083 [==============================] - 238s 1ms/step - loss: 0.0029\n",
            "Epoch 3/20\n",
            "234083/234083 [==============================] - 238s 1ms/step - loss: 0.0029\n",
            "Epoch 4/20\n",
            "234083/234083 [==============================] - 237s 1ms/step - loss: 0.0029\n",
            "Epoch 5/20\n",
            "  2025/234083 [..............................] - ETA: 4:03 - loss: 0.0024"
          ]
        }
      ]
    },
    {
      "cell_type": "code",
      "metadata": {
        "id": "QxUiDWZ1vSmz"
      },
      "source": [
        "y_pred_test_ann = model.predict(X_test)\n",
        "y_train_pred_ann = model.predict(X_train)\n",
        "rmse = np.sqrt(mean_squared_error(y_train,y_train_pred_ann))\n",
        "print(\"Train : {:0.3f}\".format(rmse))\n",
        "\n",
        "rmse = np.sqrt(mean_squared_error(y_test,y_pred_test_ann))\n",
        "print(\"Test : {:0.3f}\".format(rmse))\n"
      ],
      "execution_count": null,
      "outputs": []
    },
    {
      "cell_type": "code",
      "metadata": {
        "id": "UJh8pk0nyz0c"
      },
      "source": [
        "from sklearn import metrics\n",
        "acc=metrics.r2_score(y_test,y_pred_test_ann)\n",
        "print(\"Accuracy Score of Model: \",round(acc*100,2),'%')"
      ],
      "execution_count": null,
      "outputs": []
    },
    {
      "cell_type": "code",
      "metadata": {
        "id": "Vz4Jfm0Cy0WR"
      },
      "source": [
        "score_ann= model.evaluate(X_test, y_test, batch_size=1)\n",
        "print('ANN: %f'%score_ann)\n"
      ],
      "execution_count": null,
      "outputs": []
    },
    {
      "cell_type": "code",
      "metadata": {
        "id": "O1UO7CNqy2md"
      },
      "source": [
        ""
      ],
      "execution_count": null,
      "outputs": []
    }
  ]
}